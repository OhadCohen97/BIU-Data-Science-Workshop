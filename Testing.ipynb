{
 "cells": [
  {
   "cell_type": "markdown",
   "metadata": {},
   "source": [
    "# Test Notebook"
   ]
  },
  {
   "cell_type": "markdown",
   "metadata": {},
   "source": [
    "This notebook is designed to make it easier for the tester to test our model. With one click on \"Run All\" you can download the test sets, download the weights of the models, load them and display metrics for the two trained models."
   ]
  },
  {
   "cell_type": "code",
   "execution_count": 13,
   "metadata": {
    "pycharm": {
     "name": "#%%\n"
    }
   },
   "outputs": [],
   "source": [
    "import numpy as np\n",
    "from keras import models\n",
    "from sklearn.metrics import confusion_matrix, accuracy_score, classification_report\n",
    "import matplotlib.pyplot as plt\n",
    "import tensorflow as tf\n",
    "import shap"
   ]
  },
  {
   "cell_type": "markdown",
   "metadata": {
    "pycharm": {
     "name": "#%% md\n"
    }
   },
   "source": [
    "Download The test sets and the models"
   ]
  },
  {
   "cell_type": "code",
   "execution_count": 14,
   "metadata": {
    "pycharm": {
     "name": "#%%\n"
    }
   },
   "outputs": [
    {
     "name": "stdout",
     "output_type": "stream",
     "text": [
      "/usr/local/lib/python3.8/dist-packages/gdown/cli.py:127: FutureWarning: Option `--id` was deprecated in version 4.3.1 and will be removed in 5.0. You don't need to pass it anymore to use a file ID.\n",
      "  warnings.warn(\n",
      "Downloading...\n",
      "From: https://drive.google.com/uc?id=1fe-9sU4dw6piPpoRLGDC33zYpf359w3v\n",
      "To: /home/dsi/ohadico97/ds_project/utils.zip\n",
      "100%|██████████████████████████████████████| 48.9M/48.9M [00:01<00:00, 28.1MB/s]\n"
     ]
    }
   ],
   "source": [
    "!gdown --id 1fe-9sU4dw6piPpoRLGDC33zYpf359w3v"
   ]
  },
  {
   "cell_type": "markdown",
   "metadata": {
    "pycharm": {
     "name": "#%% md\n"
    }
   },
   "source": [
    "Unzip the files"
   ]
  },
  {
   "cell_type": "code",
   "execution_count": 15,
   "metadata": {
    "pycharm": {
     "name": "#%%\n"
    }
   },
   "outputs": [],
   "source": [
    "import shutil\n",
    "shutil.unpack_archive(\"./utils.zip\",'./' )"
   ]
  },
  {
   "cell_type": "markdown",
   "metadata": {},
   "source": [
    "Load the test sets"
   ]
  },
  {
   "cell_type": "code",
   "execution_count": 16,
   "metadata": {
    "pycharm": {
     "name": "#%%\n"
    }
   },
   "outputs": [],
   "source": [
    "# df_whole test samples.\n",
    "X_test = np.load('./X_test.npz')\n",
    "X_test0 = np.load('./X_test0.npz')\n",
    "# bow_df test samples.\n",
    "y_test = np.load('./y_test.npz')\n",
    "y_test0 = np.load('./y_test0.npz')"
   ]
  },
  {
   "cell_type": "markdown",
   "metadata": {},
   "source": [
    "Load model function"
   ]
  },
  {
   "cell_type": "code",
   "execution_count": 17,
   "metadata": {
    "pycharm": {
     "name": "#%%\n"
    }
   },
   "outputs": [],
   "source": [
    "def load_trained_model(filename):\n",
    "    model = models.load_model(f'./models/{filename}.h5')\n",
    "    return model"
   ]
  },
  {
   "cell_type": "markdown",
   "metadata": {
    "pycharm": {
     "name": "#%% md\n"
    }
   },
   "source": [
    "## Load main model (df_whole)"
   ]
  },
  {
   "cell_type": "code",
   "execution_count": 18,
   "metadata": {
    "pycharm": {
     "name": "#%%\n"
    }
   },
   "outputs": [
    {
     "name": "stderr",
     "output_type": "stream",
     "text": [
      "2022-08-15 21:36:04.636512: I tensorflow/core/platform/cpu_feature_guard.cc:193] This TensorFlow binary is optimized with oneAPI Deep Neural Network Library (oneDNN) to use the following CPU instructions in performance-critical operations:  AVX2 AVX512F AVX512_VNNI FMA\n",
      "To enable them in other operations, rebuild TensorFlow with the appropriate compiler flags.\n",
      "2022-08-15 21:36:07.493061: I tensorflow/core/common_runtime/gpu/gpu_device.cc:1532] Created device /job:localhost/replica:0/task:0/device:GPU:0 with 343 MB memory:  -> device: 0, name: NVIDIA GeForce RTX 2080 Ti, pci bus id: 0000:1a:00.0, compute capability: 7.5\n",
      "2022-08-15 21:36:07.494176: I tensorflow/core/common_runtime/gpu/gpu_device.cc:1532] Created device /job:localhost/replica:0/task:0/device:GPU:1 with 343 MB memory:  -> device: 1, name: NVIDIA GeForce RTX 2080 Ti, pci bus id: 0000:1b:00.0, compute capability: 7.5\n",
      "2022-08-15 21:36:07.495307: I tensorflow/core/common_runtime/gpu/gpu_device.cc:1532] Created device /job:localhost/replica:0/task:0/device:GPU:2 with 9336 MB memory:  -> device: 2, name: NVIDIA GeForce RTX 2080 Ti, pci bus id: 0000:3d:00.0, compute capability: 7.5\n",
      "2022-08-15 21:36:07.496231: I tensorflow/core/common_runtime/gpu/gpu_device.cc:1532] Created device /job:localhost/replica:0/task:0/device:GPU:3 with 3843 MB memory:  -> device: 3, name: NVIDIA GeForce RTX 2080 Ti, pci bus id: 0000:3e:00.0, compute capability: 7.5\n"
     ]
    }
   ],
   "source": [
    "classifier_whole = load_trained_model('df_whole')"
   ]
  },
  {
   "cell_type": "markdown",
   "metadata": {
    "pycharm": {
     "name": "#%% md\n"
    }
   },
   "source": [
    "## Predicting the Test set results for main model (df_whole)"
   ]
  },
  {
   "cell_type": "code",
   "execution_count": 19,
   "metadata": {
    "pycharm": {
     "name": "#%%\n"
    }
   },
   "outputs": [
    {
     "name": "stdout",
     "output_type": "stream",
     "text": [
      "9105/9105 [==============================] - 25s 3ms/step\n",
      "[[0.02581253 0.        ]\n",
      " [0.02169383 0.        ]\n",
      " [0.14996384 0.        ]\n",
      " ...\n",
      " [0.99579245 0.        ]\n",
      " [0.00354013 0.        ]\n",
      " [0.02420975 0.        ]]\n"
     ]
    }
   ],
   "source": [
    "with tf.device('/cpu:0'):\n",
    "    y_pred = classifier_whole.predict(X_test['arr_0'])\n",
    "    print(np.concatenate((y_pred.reshape(len(y_pred),1), y_test['arr_0'].reshape(len(y_test['arr_0']),1)),1))"
   ]
  },
  {
   "cell_type": "markdown",
   "metadata": {
    "pycharm": {
     "name": "#%% md\n"
    }
   },
   "source": [
    "### Confusion Matrix and accuracy score and other metrics for df_whole"
   ]
  },
  {
   "cell_type": "code",
   "execution_count": 26,
   "metadata": {
    "pycharm": {
     "name": "#%%\n"
    }
   },
   "outputs": [
    {
     "name": "stdout",
     "output_type": "stream",
     "text": [
      "Confusion Matrix:\n",
      "\n",
      "[[210930   4697]\n",
      " [ 27153  48563]]\n",
      "Accuracy: 89%\n",
      "TPR: 89%\n",
      "TNR: 91%\n",
      "              precision    recall  f1-score   support\n",
      "\n",
      "    Arrested       0.89      0.98      0.93    215627\n",
      "Not Arrested       0.91      0.64      0.75     75716\n",
      "\n",
      "    accuracy                           0.89    291343\n",
      "   macro avg       0.90      0.81      0.84    291343\n",
      "weighted avg       0.89      0.89      0.88    291343\n",
      "\n"
     ]
    }
   ],
   "source": [
    "y_05_pred = (y_pred > 0.5)\n",
    "cm = confusion_matrix(y_test['arr_0'], y_05_pred)\n",
    "print(f'Confusion Matrix:\\n\\n{cm}')\n",
    "accuracy = accuracy_score(y_test['arr_0'], y_05_pred)\n",
    "print(f'Accuracy: {round(accuracy*100)}%')\n",
    "tp, fp, fn, tn = cm.ravel()\n",
    "TPR = tp/(tp+fn)\n",
    "TNR = tn/(tn+fp)\n",
    "print(f'TPR: {round(TPR*100)}%\\n'\n",
    "      f'TNR: {round(TNR*100)}%')\n",
    "target_names = ['Arrested', 'Not Arrested']\n",
    "print(classification_report(y_test['arr_0'], y_05_pred, target_names=target_names))"
   ]
  },
  {
   "cell_type": "markdown",
   "metadata": {
    "pycharm": {
     "name": "#%% md\n"
    }
   },
   "source": [
    "## Load Bag of Words model (bow_df)"
   ]
  },
  {
   "cell_type": "code",
   "execution_count": 21,
   "metadata": {
    "pycharm": {
     "name": "#%%\n"
    }
   },
   "outputs": [],
   "source": [
    "classifier_bow = load_trained_model('bow_df')"
   ]
  },
  {
   "cell_type": "markdown",
   "metadata": {
    "pycharm": {
     "name": "#%% md\n"
    }
   },
   "source": [
    "## Predicting the Test set results for bow_df"
   ]
  },
  {
   "cell_type": "code",
   "execution_count": 22,
   "metadata": {
    "pycharm": {
     "name": "#%%\n"
    }
   },
   "outputs": [
    {
     "name": "stdout",
     "output_type": "stream",
     "text": [
      "9105/9105 [==============================] - 25s 3ms/step\n",
      "[[0.04361622 0.        ]\n",
      " [0.03200115 0.        ]\n",
      " [0.06523862 0.        ]\n",
      " ...\n",
      " [0.99577147 0.        ]\n",
      " [0.04611504 0.        ]\n",
      " [0.09515184 0.        ]]\n"
     ]
    }
   ],
   "source": [
    "with tf.device('/cpu:0'):\n",
    "    y_pred0 = classifier_bow.predict(X_test0['arr_0'])\n",
    "    print(np.concatenate((y_pred0.reshape(len(y_pred0),1), y_test0['arr_0'].reshape(len(y_test0['arr_0']),1)),1))"
   ]
  },
  {
   "cell_type": "markdown",
   "metadata": {
    "pycharm": {
     "name": "#%% md\n"
    }
   },
   "source": [
    "### Confusion Matrix and accuracy score and other metrics for bow_df"
   ]
  },
  {
   "cell_type": "code",
   "execution_count": 23,
   "metadata": {
    "pycharm": {
     "name": "#%%\n"
    }
   },
   "outputs": [
    {
     "name": "stdout",
     "output_type": "stream",
     "text": [
      "Confusion Matrix:\n",
      "\n",
      "[[212690   2937]\n",
      " [ 32644  43072]]\n",
      "Accuracy: 88%\n",
      "TPR: 87%\n",
      "TNR: 94%\n",
      "              precision    recall  f1-score   support\n",
      "\n",
      "    Arrested       0.87      0.99      0.92    215627\n",
      "Not Arrested       0.94      0.57      0.71     75716\n",
      "\n",
      "    accuracy                           0.88    291343\n",
      "   macro avg       0.90      0.78      0.82    291343\n",
      "weighted avg       0.88      0.88      0.87    291343\n",
      "\n"
     ]
    }
   ],
   "source": [
    "y_05_pred0 = (y_pred0 > 0.5)\n",
    "cm = confusion_matrix(y_test0['arr_0'], y_05_pred0)\n",
    "print(f'Confusion Matrix:\\n\\n{cm}')\n",
    "accuracy = accuracy_score(y_test0['arr_0'], y_05_pred0)\n",
    "print(f'Accuracy: {round(accuracy*100)}%')\n",
    "tp, fp, fn, tn = cm.ravel()\n",
    "TPR = tp/(tp+fn)\n",
    "TNR = tn/(tn+fp)\n",
    "print(f'TPR: {round(TPR*100)}%\\n'\n",
    "      f'TNR: {round(TNR*100)}%')\n",
    "target_names = ['Arrested', 'Not Arrested']\n",
    "print(classification_report(y_test0['arr_0'], y_05_pred0, target_names=target_names))"
   ]
  },
  {
   "cell_type": "markdown",
   "metadata": {
    "pycharm": {
     "name": "#%% md\n"
    }
   },
   "source": [
    "## Create a combined prediction by using probabilities from both models"
   ]
  },
  {
   "cell_type": "code",
   "execution_count": 24,
   "metadata": {
    "pycharm": {
     "name": "#%%\n"
    }
   },
   "outputs": [
    {
     "data": {
      "text/plain": [
       "(291343, 1)"
      ]
     },
     "execution_count": 24,
     "metadata": {},
     "output_type": "execute_result"
    }
   ],
   "source": [
    "y_pred_combined = y_pred + y_pred0\n",
    "y_pred_combined = y_pred_combined / 2\n",
    "y_pred_combined.shape"
   ]
  },
  {
   "cell_type": "markdown",
   "metadata": {
    "pycharm": {
     "name": "#%% md\n"
    }
   },
   "source": [
    "### Confusion Matrix and accuracy score and other metrics for <b>combined</b> prediction by using probabilities from both models"
   ]
  },
  {
   "cell_type": "code",
   "execution_count": 25,
   "metadata": {
    "pycharm": {
     "name": "#%%\n"
    }
   },
   "outputs": [
    {
     "name": "stdout",
     "output_type": "stream",
     "text": [
      "Confusion Matrix:\n",
      "\n",
      "[[211456   4171]\n",
      " [ 28047  47669]]\n",
      "Accuracy: 89%\n",
      "TPR: 88%\n",
      "TNR: 92%\n",
      "              precision    recall  f1-score   support\n",
      "\n",
      "    Arrested       0.88      0.98      0.93    215627\n",
      "Not Arrested       0.92      0.63      0.75     75716\n",
      "\n",
      "    accuracy                           0.89    291343\n",
      "   macro avg       0.90      0.81      0.84    291343\n",
      "weighted avg       0.89      0.89      0.88    291343\n",
      "\n"
     ]
    }
   ],
   "source": [
    "y_05_combined = (y_pred_combined > 0.5)\n",
    "cm = confusion_matrix(y_test0['arr_0'], y_05_combined)\n",
    "print(f'Confusion Matrix:\\n\\n{cm}')\n",
    "accuracy = accuracy_score(y_test0['arr_0'], y_05_combined)\n",
    "print(f'Accuracy: {round(accuracy*100)}%')\n",
    "tp, fp, fn, tn = cm.ravel()\n",
    "TPR = tp/(tp+fn)\n",
    "TNR = tn/(tn+fp)\n",
    "print(f'TPR: {round(TPR*100)}%\\n'\n",
    "      f'TNR: {round(TNR*100)}%')\n",
    "target_names = ['Arrested', 'Not Arrested']\n",
    "print(classification_report(y_test0['arr_0'], y_05_combined, target_names=target_names))"
   ]
  }
 ],
 "metadata": {
  "kernelspec": {
   "display_name": "Python 3.8.10 64-bit",
   "language": "python",
   "name": "python3"
  },
  "language_info": {
   "codemirror_mode": {
    "name": "ipython",
    "version": 3
   },
   "file_extension": ".py",
   "mimetype": "text/x-python",
   "name": "python",
   "nbconvert_exporter": "python",
   "pygments_lexer": "ipython3",
   "version": "3.8.10"
  },
  "orig_nbformat": 4,
  "vscode": {
   "interpreter": {
    "hash": "916dbcbb3f70747c44a77c7bcd40155683ae19c65e1c03b4aa3499c5328201f1"
   }
  }
 },
 "nbformat": 4,
 "nbformat_minor": 2
}
